{
  "nbformat": 4,
  "nbformat_minor": 0,
  "metadata": {
    "colab": {
      "provenance": [],
      "authorship_tag": "ABX9TyOlV87sKCGwobn4IhPRNgVE",
      "include_colab_link": true
    },
    "kernelspec": {
      "name": "python3",
      "display_name": "Python 3"
    },
    "language_info": {
      "name": "python"
    }
  },
  "cells": [
    {
      "cell_type": "markdown",
      "metadata": {
        "id": "view-in-github",
        "colab_type": "text"
      },
      "source": [
        "<a href=\"https://colab.research.google.com/github/Lister223/RAG_travelDemo_QA/blob/main/RAG_%E6%97%85%E9%81%8Ademo%E5%95%8F%E7%AD%94.ipynb\" target=\"_parent\"><img src=\"https://colab.research.google.com/assets/colab-badge.svg\" alt=\"Open In Colab\"/></a>"
      ]
    },
    {
      "cell_type": "code",
      "execution_count": null,
      "metadata": {
        "collapsed": true,
        "id": "WuVF8zJ3TxqT"
      },
      "outputs": [],
      "source": [
        "!pip install openai\n",
        "!pip install langchain\n",
        "!pip install --upgrade --quiet  langchain-openai\n",
        "!pip install -U langchain-community\n",
        "!pip install chromadb\n",
        "!pip install PyMuPDF\n",
        "!pip install gradio==3.47.1"
      ]
    },
    {
      "cell_type": "code",
      "source": [
        "from langchain.chains import create_retrieval_chain\n",
        "from langchain.chains.combine_documents import create_stuff_documents_chain\n",
        "from langchain_core.prompts import ChatPromptTemplate\n",
        "from langchain_openai import ChatOpenAI\n",
        "from langchain.vectorstores import Chroma\n",
        "from langchain.indexes import VectorstoreIndexCreator\n",
        "from langchain_openai import OpenAIEmbeddings\n",
        "from google.colab import userdata\n",
        "from langchain.schema import Document\n",
        "import fitz\n",
        "import os\n",
        "import gradio as gr"
      ],
      "metadata": {
        "id": "kxWjDs21UAxq"
      },
      "execution_count": null,
      "outputs": []
    },
    {
      "cell_type": "code",
      "source": [
        "os.environ[\"OPENAI_API_KEY\"] = userdata.get('OPENAI_API_KEY')"
      ],
      "metadata": {
        "id": "zS0ijLSiUFXx"
      },
      "execution_count": null,
      "outputs": []
    },
    {
      "cell_type": "code",
      "source": [
        "# 定義文件讀取\n",
        "def read_pdf(file):\n",
        "    text = ''\n",
        "    with fitz.open(file) as doc:\n",
        "        for page in doc:\n",
        "            text += page.get_text()\n",
        "    return text"
      ],
      "metadata": {
        "id": "tLPIEc_AU54M"
      },
      "execution_count": null,
      "outputs": []
    },
    {
      "cell_type": "code",
      "source": [
        "# 向量化&資料庫儲存設置\n",
        "embeddings = OpenAIEmbeddings(model=\"text-embedding-3-large\", deployment=\"text-embedding-ada-002-1\")\n",
        "index_creator = VectorstoreIndexCreator(\n",
        "    embedding=embeddings,\n",
        "    vectorstore_cls=Chroma,\n",
        "    vectorstore_kwargs={\"persist_directory\": \"./vector\"}\n",
        ")"
      ],
      "metadata": {
        "id": "LbPJzbzyU8Ch"
      },
      "execution_count": null,
      "outputs": []
    },
    {
      "cell_type": "code",
      "source": [
        "# 定義資料儲存\n",
        "def process_and_store(file):\n",
        "    text = read_pdf(file)\n",
        "    if text.startswith(\"Error:\"):\n",
        "        return text\n",
        "    document = Document(page_content=text)  # 確保 text 被轉換為 Document 對象\n",
        "    docsearch = index_creator.from_documents([document])\n",
        "    print(\"向量資料庫已更新\")\n",
        "    return \"文件已成功儲存到向量資料庫中。你可以開始提問了。\""
      ],
      "metadata": {
        "id": "6iToIkrQU_MJ"
      },
      "execution_count": null,
      "outputs": []
    },
    {
      "cell_type": "code",
      "source": [
        "# 連接資料庫\n",
        "db = Chroma(persist_directory='./vector', embedding_function=embeddings)\n",
        "# 設定檢索器-檢索db\n",
        "retriever = db.as_retriever(search_kwargs={\"k\": 3})"
      ],
      "metadata": {
        "id": "rzgMOOnlVBLb"
      },
      "execution_count": null,
      "outputs": []
    },
    {
      "cell_type": "code",
      "source": [
        "# 設定模型\n",
        "llm = ChatOpenAI(model=\"gpt-4o\")\n",
        "\n",
        "# 系統prompt 設置\n",
        "system_prompt =  '''\n",
        "    1.Use the given context to answer the question.\n",
        "    2.If you don't know the answer, say you don't know.\n",
        "    3.Use three sentence maximum and keep the answer concise.\n",
        "    4.不知道答案就回答「抱歉!我不清楚這個答案」，不要試圖編造答案。\n",
        "    5.可參考上下文、歷史對話回覆使用者的問題\n",
        "    6.你是一位旅遊助理，請根據景點資訊回覆使用者的問題\n",
        "    7.你可以參考使用者上傳的文件內容回復。\n",
        "    Context: {context}\n",
        "    '''\n",
        "\n",
        "prompt = ChatPromptTemplate.from_messages(\n",
        "    [\n",
        "        (\"system\", system_prompt),\n",
        "        (\"human\", \"{input}\"),\n",
        "    ]\n",
        ")\n",
        "question_answer_chain = create_stuff_documents_chain(llm, prompt)\n",
        "chain = create_retrieval_chain(retriever, question_answer_chain)"
      ],
      "metadata": {
        "id": "oIknBKLlVEhy"
      },
      "execution_count": null,
      "outputs": []
    },
    {
      "cell_type": "code",
      "source": [
        "# 定義問答函數\n",
        "def answer_question(question,history,stream):\n",
        "    # 將歷史對話作為上下文\n",
        "    context = \" \".join([f\"Human: {q}\\nAssistant: {a}\" for q, a in history])\n",
        "    results = retriever.get_relevant_documents(question)\n",
        "    print(\"檢索結果:\", results)\n",
        "    answer = chain.invoke({\"input\": question , \"context\": context})['answer']\n",
        "    print(\"模型回答:\", answer)\n",
        "    if stream:\n",
        "      reply = ''\n",
        "      for char in answer:\n",
        "        reply += char\n",
        "        yield reply\n",
        "    else:\n",
        "      yield answer"
      ],
      "metadata": {
        "id": "mTjniLbeVJFR"
      },
      "execution_count": null,
      "outputs": []
    },
    {
      "cell_type": "code",
      "source": [
        "# Gradio 頁面\n",
        "with gr.Blocks() as demo:\n",
        "    gr.Markdown(\"<p style='font-size:20px;'>歡迎您使用旅遊助理服務!!<br>請上傳您想提問的旅遊景點PDF文件。</p>\")\n",
        "\n",
        "    file_input = gr.File(type=\"file\")\n",
        "    store_output = gr.Textbox(label=\"儲存狀態\")\n",
        "\n",
        "    file_input.change(fn=read_pdf, inputs=file_input)\n",
        "    file_input.change(fn=process_and_store, inputs=file_input, outputs=store_output)\n",
        "\n",
        "    chatbot = gr.ChatInterface(fn=answer_question,additional_inputs=[\n",
        "                                     gr.Checkbox(label='Stream', value=True)\n",
        "                                     ])\n",
        "\n",
        "demo.queue().launch(share=True)"
      ],
      "metadata": {
        "id": "ukMPBr63VNXC",
        "colab": {
          "base_uri": "https://localhost:8080/",
          "height": 680
        },
        "outputId": "6f0ed167-99c1-4d92-85a6-b1b3d03d96b3"
      },
      "execution_count": null,
      "outputs": [
        {
          "output_type": "stream",
          "name": "stdout",
          "text": [
            "IMPORTANT: You are using gradio version 3.47.1, however version 4.44.1 is available, please upgrade.\n",
            "--------\n",
            "IMPORTANT: You are using gradio version 3.47.1, however version 4.44.1 is available, please upgrade.\n",
            "--------\n",
            "Colab notebook detected. To show errors in colab notebook, set debug=True in launch()\n",
            "Running on public URL: https://5af8e847880db89623.gradio.live\n",
            "\n",
            "This share link expires in 72 hours. For free permanent hosting and GPU upgrades, run `gradio deploy` from Terminal to deploy to Spaces (https://huggingface.co/spaces)\n"
          ]
        },
        {
          "output_type": "display_data",
          "data": {
            "text/plain": [
              "<IPython.core.display.HTML object>"
            ],
            "text/html": [
              "<div><iframe src=\"https://5af8e847880db89623.gradio.live\" width=\"100%\" height=\"500\" allow=\"autoplay; camera; microphone; clipboard-read; clipboard-write;\" frameborder=\"0\" allowfullscreen></iframe></div>"
            ]
          },
          "metadata": {}
        },
        {
          "output_type": "execute_result",
          "data": {
            "text/plain": []
          },
          "metadata": {},
          "execution_count": 38
        }
      ]
    }
  ]
}